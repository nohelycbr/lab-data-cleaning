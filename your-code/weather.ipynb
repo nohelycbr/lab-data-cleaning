{
 "cells": [
  {
   "cell_type": "markdown",
   "metadata": {},
   "source": [
    "## Global Historical Climatology Network Dataset\n",
    "Variables are stored in both rows and columns\n",
    "This dataset represents the daily weather records for a weather station (MX17004) in Mexico for five months in 2010."
   ]
  },
  {
   "cell_type": "code",
   "execution_count": 6,
   "metadata": {},
   "outputs": [
    {
     "name": "stdout",
     "output_type": "stream",
     "text": [
      "month       0\n",
      "element     0\n",
      "d1         20\n",
      "d2         18\n",
      "d3         18\n",
      "d4         20\n",
      "d5         14\n",
      "d6         20\n",
      "d7         20\n",
      "d8         20\n",
      "d9         22\n",
      "d10        20\n",
      "d11        20\n",
      "d12        22\n",
      "d13        20\n",
      "d14        18\n",
      "d15        20\n",
      "d16        20\n",
      "d17        20\n",
      "d18        22\n",
      "d19        22\n",
      "d20        22\n",
      "d21        22\n",
      "d22        22\n",
      "d23        18\n",
      "d24        22\n",
      "d25        20\n",
      "d26        20\n",
      "d27        16\n",
      "d28        20\n",
      "d29        18\n",
      "d30        20\n",
      "d31        20\n",
      "dtype: int64\n",
      "    month element    d1    d2    d3    d4    d5    d6    d7    d8  ...   d16  \\\n",
      "0       1    tmax   0.0   0.0   0.0   0.0   0.0   0.0   0.0   0.0  ...   0.0   \n",
      "1       1    tmin   0.0   0.0   0.0   0.0   0.0   0.0   0.0   0.0  ...   0.0   \n",
      "2       2    tmax   0.0  27.3  24.1   0.0   0.0   0.0   0.0   0.0  ...   0.0   \n",
      "3       2    tmin   0.0  14.4  14.4   0.0   0.0   0.0   0.0   0.0  ...   0.0   \n",
      "4       3    tmax   0.0   0.0   0.0   0.0  32.1   0.0   0.0   0.0  ...  31.1   \n",
      "5       3    tmin   0.0   0.0   0.0   0.0  14.2   0.0   0.0   0.0  ...  17.6   \n",
      "6       4    tmax   0.0   0.0   0.0   0.0   0.0   0.0   0.0   0.0  ...   0.0   \n",
      "7       4    tmin   0.0   0.0   0.0   0.0   0.0   0.0   0.0   0.0  ...   0.0   \n",
      "8       5    tmax   0.0   0.0   0.0   0.0   0.0   0.0   0.0   0.0  ...   0.0   \n",
      "9       5    tmin   0.0   0.0   0.0   0.0   0.0   0.0   0.0   0.0  ...   0.0   \n",
      "10      6    tmax   0.0   0.0   0.0   0.0   0.0   0.0   0.0   0.0  ...   0.0   \n",
      "11      6    tmin   0.0   0.0   0.0   0.0   0.0   0.0   0.0   0.0  ...   0.0   \n",
      "12      7    tmax   0.0   0.0  28.6   0.0   0.0   0.0   0.0   0.0  ...   0.0   \n",
      "13      7    tmin   0.0   0.0  17.5   0.0   0.0   0.0   0.0   0.0  ...   0.0   \n",
      "14      8    tmax   0.0   0.0   0.0   0.0  29.6   0.0   0.0  29.0  ...   0.0   \n",
      "15      8    tmin   0.0   0.0   0.0   0.0  15.8   0.0   0.0  17.3  ...   0.0   \n",
      "16     10    tmax   0.0   0.0   0.0   0.0  27.0   0.0  28.1   0.0  ...   0.0   \n",
      "17     10    tmin   0.0   0.0   0.0   0.0  14.0   0.0  12.9   0.0  ...   0.0   \n",
      "18     11    tmax   0.0  31.3   0.0  27.2  26.3   0.0   0.0   0.0  ...   0.0   \n",
      "19     11    tmin   0.0  16.3   0.0  12.0   7.9   0.0   0.0   0.0  ...   0.0   \n",
      "20     12    tmax  29.9   0.0   0.0   0.0   0.0  27.8   0.0   0.0  ...   0.0   \n",
      "21     12    tmin  13.8   0.0   0.0   0.0   0.0  10.5   0.0   0.0  ...   0.0   \n",
      "\n",
      "     d17   d23   d25   d26   d27   d28   d29   d30   d31  \n",
      "0    0.0   0.0   0.0   0.0   0.0   0.0   0.0  27.8   0.0  \n",
      "1    0.0   0.0   0.0   0.0   0.0   0.0   0.0  14.5   0.0  \n",
      "2    0.0  29.9   0.0   0.0   0.0   0.0   0.0   0.0   0.0  \n",
      "3    0.0  10.7   0.0   0.0   0.0   0.0   0.0   0.0   0.0  \n",
      "4    0.0   0.0   0.0   0.0   0.0   0.0   0.0   0.0   0.0  \n",
      "5    0.0   0.0   0.0   0.0   0.0   0.0   0.0   0.0   0.0  \n",
      "6    0.0   0.0   0.0   0.0  36.3   0.0   0.0   0.0   0.0  \n",
      "7    0.0   0.0   0.0   0.0  16.7   0.0   0.0   0.0   0.0  \n",
      "8    0.0   0.0   0.0   0.0  33.2   0.0   0.0   0.0   0.0  \n",
      "9    0.0   0.0   0.0   0.0  18.2   0.0   0.0   0.0   0.0  \n",
      "10  28.0   0.0   0.0   0.0   0.0   0.0  30.1   0.0   0.0  \n",
      "11  17.5   0.0   0.0   0.0   0.0   0.0  18.0   0.0   0.0  \n",
      "12   0.0   0.0   0.0   0.0   0.0   0.0   0.0   0.0   0.0  \n",
      "13   0.0   0.0   0.0   0.0   0.0   0.0   0.0   0.0   0.0  \n",
      "14   0.0  26.4  29.7   0.0   0.0   0.0  28.0   0.0  25.4  \n",
      "15   0.0  15.0  15.6   0.0   0.0   0.0  15.3   0.0  15.4  \n",
      "16   0.0   0.0   0.0   0.0   0.0  31.2   0.0   0.0   0.0  \n",
      "17   0.0   0.0   0.0   0.0   0.0  15.0   0.0   0.0   0.0  \n",
      "18   0.0   0.0   0.0  28.1  27.7   0.0   0.0   0.0   0.0  \n",
      "19   0.0   0.0   0.0  12.1  14.2   0.0   0.0   0.0   0.0  \n",
      "20   0.0   0.0   0.0   0.0   0.0   0.0   0.0   0.0   0.0  \n",
      "21   0.0   0.0   0.0   0.0   0.0   0.0   0.0   0.0   0.0  \n",
      "\n",
      "[22 rows x 25 columns]\n"
     ]
    }
   ],
   "source": [
    "import pandas\n",
    "\n",
    "weather = pandas.read_csv('../weather-raw.csv')\n",
    "\n",
    "weather= weather.drop(['year','id'],axis = 1)\n",
    "\n",
    "null_cols = weather.isnull().sum()\n",
    "print(null_cols)\n",
    "drop_cols = list(null_cols[null_cols > 20].index)\n",
    "nombres_columnas = list(null_cols[null_cols <= 20].index)\n",
    "weather = weather.drop(drop_cols, axis=1)\n",
    "weather[nombres_columnas] = weather[nombres_columnas].fillna(0)\n",
    "print(weather)"
   ]
  },
  {
   "cell_type": "code",
   "execution_count": null,
   "metadata": {},
   "outputs": [],
   "source": []
  },
  {
   "cell_type": "code",
   "execution_count": null,
   "metadata": {},
   "outputs": [],
   "source": []
  },
  {
   "cell_type": "code",
   "execution_count": null,
   "metadata": {},
   "outputs": [],
   "source": []
  },
  {
   "cell_type": "code",
   "execution_count": null,
   "metadata": {},
   "outputs": [],
   "source": []
  }
 ],
 "metadata": {
  "kernelspec": {
   "display_name": "Python 3",
   "language": "python",
   "name": "python3"
  },
  "language_info": {
   "codemirror_mode": {
    "name": "ipython",
    "version": 3
   },
   "file_extension": ".py",
   "mimetype": "text/x-python",
   "name": "python",
   "nbconvert_exporter": "python",
   "pygments_lexer": "ipython3",
   "version": "3.7.0"
  }
 },
 "nbformat": 4,
 "nbformat_minor": 2
}
